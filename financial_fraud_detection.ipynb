{
 "cells": [
  {
   "cell_type": "code",
   "execution_count": 23,
   "id": "initial_id",
   "metadata": {
    "collapsed": true,
    "ExecuteTime": {
     "end_time": "2024-08-19T10:17:07.398695500Z",
     "start_time": "2024-08-19T10:17:06.198882100Z"
    }
   },
   "outputs": [],
   "source": [
    "# importing the necessary libraries\n",
    "import pandas as pd\n",
    "import plotly.express as px\n",
    "from sklearn.model_selection import train_test_split\n",
    "from sklearn.preprocessing import StandardScaler\n",
    "from sklearn.utils import resample\n",
    "from sklearn.ensemble import RandomForestClassifier\n",
    "from sklearn.preprocessing import OneHotEncoder\n",
    "import joblib\n",
    "import time"
   ]
  },
  {
   "cell_type": "code",
   "outputs": [
    {
     "data": {
      "text/plain": "   step      type    amount     nameOrig  oldbalanceOrg  newbalanceOrig  \\\n0     1   PAYMENT   9839.64  C1231006815       170136.0       160296.36   \n1     1   PAYMENT   1864.28  C1666544295        21249.0        19384.72   \n2     1  TRANSFER    181.00  C1305486145          181.0            0.00   \n3     1  CASH_OUT    181.00   C840083671          181.0            0.00   \n4     1   PAYMENT  11668.14  C2048537720        41554.0        29885.86   \n\n      nameDest  oldbalanceDest  newbalanceDest  isFraud  isFlaggedFraud  \n0  M1979787155             0.0             0.0        0               0  \n1  M2044282225             0.0             0.0        0               0  \n2   C553264065             0.0             0.0        1               0  \n3    C38997010         21182.0             0.0        1               0  \n4  M1230701703             0.0             0.0        0               0  ",
      "text/html": "<div>\n<style scoped>\n    .dataframe tbody tr th:only-of-type {\n        vertical-align: middle;\n    }\n\n    .dataframe tbody tr th {\n        vertical-align: top;\n    }\n\n    .dataframe thead th {\n        text-align: right;\n    }\n</style>\n<table border=\"1\" class=\"dataframe\">\n  <thead>\n    <tr style=\"text-align: right;\">\n      <th></th>\n      <th>step</th>\n      <th>type</th>\n      <th>amount</th>\n      <th>nameOrig</th>\n      <th>oldbalanceOrg</th>\n      <th>newbalanceOrig</th>\n      <th>nameDest</th>\n      <th>oldbalanceDest</th>\n      <th>newbalanceDest</th>\n      <th>isFraud</th>\n      <th>isFlaggedFraud</th>\n    </tr>\n  </thead>\n  <tbody>\n    <tr>\n      <th>0</th>\n      <td>1</td>\n      <td>PAYMENT</td>\n      <td>9839.64</td>\n      <td>C1231006815</td>\n      <td>170136.0</td>\n      <td>160296.36</td>\n      <td>M1979787155</td>\n      <td>0.0</td>\n      <td>0.0</td>\n      <td>0</td>\n      <td>0</td>\n    </tr>\n    <tr>\n      <th>1</th>\n      <td>1</td>\n      <td>PAYMENT</td>\n      <td>1864.28</td>\n      <td>C1666544295</td>\n      <td>21249.0</td>\n      <td>19384.72</td>\n      <td>M2044282225</td>\n      <td>0.0</td>\n      <td>0.0</td>\n      <td>0</td>\n      <td>0</td>\n    </tr>\n    <tr>\n      <th>2</th>\n      <td>1</td>\n      <td>TRANSFER</td>\n      <td>181.00</td>\n      <td>C1305486145</td>\n      <td>181.0</td>\n      <td>0.00</td>\n      <td>C553264065</td>\n      <td>0.0</td>\n      <td>0.0</td>\n      <td>1</td>\n      <td>0</td>\n    </tr>\n    <tr>\n      <th>3</th>\n      <td>1</td>\n      <td>CASH_OUT</td>\n      <td>181.00</td>\n      <td>C840083671</td>\n      <td>181.0</td>\n      <td>0.00</td>\n      <td>C38997010</td>\n      <td>21182.0</td>\n      <td>0.0</td>\n      <td>1</td>\n      <td>0</td>\n    </tr>\n    <tr>\n      <th>4</th>\n      <td>1</td>\n      <td>PAYMENT</td>\n      <td>11668.14</td>\n      <td>C2048537720</td>\n      <td>41554.0</td>\n      <td>29885.86</td>\n      <td>M1230701703</td>\n      <td>0.0</td>\n      <td>0.0</td>\n      <td>0</td>\n      <td>0</td>\n    </tr>\n  </tbody>\n</table>\n</div>"
     },
     "execution_count": 24,
     "metadata": {},
     "output_type": "execute_result"
    }
   ],
   "source": [
    "#Load the file\n",
    "df = pd.read_csv(\"fraud_detection_dataset.csv\")\n",
    "df.head()"
   ],
   "metadata": {
    "collapsed": false,
    "ExecuteTime": {
     "end_time": "2024-08-19T10:17:58.498050900Z",
     "start_time": "2024-08-19T10:17:07.412355500Z"
    }
   },
   "id": "19bce19b7adbafb9",
   "execution_count": 24
  },
  {
   "cell_type": "code",
   "outputs": [
    {
     "name": "stdout",
     "output_type": "stream",
     "text": [
      "<class 'pandas.core.frame.DataFrame'>\n",
      "RangeIndex: 6362620 entries, 0 to 6362619\n",
      "Data columns (total 11 columns):\n",
      " #   Column          Dtype  \n",
      "---  ------          -----  \n",
      " 0   step            int64  \n",
      " 1   type            object \n",
      " 2   amount          float64\n",
      " 3   nameOrig        object \n",
      " 4   oldbalanceOrg   float64\n",
      " 5   newbalanceOrig  float64\n",
      " 6   nameDest        object \n",
      " 7   oldbalanceDest  float64\n",
      " 8   newbalanceDest  float64\n",
      " 9   isFraud         int64  \n",
      " 10  isFlaggedFraud  int64  \n",
      "dtypes: float64(5), int64(3), object(3)\n",
      "memory usage: 534.0+ MB\n"
     ]
    }
   ],
   "source": [
    "df.info()"
   ],
   "metadata": {
    "collapsed": false,
    "ExecuteTime": {
     "end_time": "2024-08-19T10:17:59.016198200Z",
     "start_time": "2024-08-19T10:17:58.383920600Z"
    }
   },
   "id": "5082dd8cdef9dfc6",
   "execution_count": 25
  },
  {
   "cell_type": "code",
   "outputs": [
    {
     "data": {
      "text/plain": "(6362620, 11)"
     },
     "execution_count": 26,
     "metadata": {},
     "output_type": "execute_result"
    }
   ],
   "source": [
    "#row and column info\n",
    "df.shape"
   ],
   "metadata": {
    "collapsed": false,
    "ExecuteTime": {
     "end_time": "2024-08-19T10:17:59.540797600Z",
     "start_time": "2024-08-19T10:17:58.627228300Z"
    }
   },
   "id": "30d065c363877b19",
   "execution_count": 26
  },
  {
   "cell_type": "code",
   "outputs": [
    {
     "data": {
      "text/plain": "step              0\ntype              0\namount            0\nnameOrig          0\noldbalanceOrg     0\nnewbalanceOrig    0\nnameDest          0\noldbalanceDest    0\nnewbalanceDest    0\nisFraud           0\nisFlaggedFraud    0\ndtype: int64"
     },
     "execution_count": 27,
     "metadata": {},
     "output_type": "execute_result"
    }
   ],
   "source": [
    "#Checking for Null Values\n",
    "df.isnull().sum()\n",
    "# from the result no null value was found"
   ],
   "metadata": {
    "collapsed": false,
    "ExecuteTime": {
     "end_time": "2024-08-19T10:18:01.612720900Z",
     "start_time": "2024-08-19T10:17:58.673035Z"
    }
   },
   "id": "c6ad39c78fa25e30",
   "execution_count": 27
  },
  {
   "cell_type": "code",
   "outputs": [
    {
     "name": "stdout",
     "output_type": "stream",
     "text": [
      "Number of duplicate rows: 0\n"
     ]
    }
   ],
   "source": [
    "num_duplicates = df.duplicated().sum()\n",
    "print(f\"Number of duplicate rows: {num_duplicates}\")\n"
   ],
   "metadata": {
    "collapsed": false,
    "ExecuteTime": {
     "end_time": "2024-08-19T10:18:36.088760500Z",
     "start_time": "2024-08-19T10:18:01.611743800Z"
    }
   },
   "id": "280625a35efc0377",
   "execution_count": 28
  },
  {
   "cell_type": "code",
   "outputs": [
    {
     "data": {
      "text/plain": "type\nCASH_OUT    2237500\nPAYMENT     2151495\nCASH_IN     1399284\nTRANSFER     532909\nDEBIT         41432\nName: count, dtype: int64"
     },
     "execution_count": 29,
     "metadata": {},
     "output_type": "execute_result"
    }
   ],
   "source": [
    "#Exploratory Data Analysis\n",
    "\n",
    "# Calculate value counts for the TYPE column\n",
    "type_counts = df['type'].value_counts()\n",
    "type_counts"
   ],
   "metadata": {
    "collapsed": false,
    "ExecuteTime": {
     "end_time": "2024-08-19T10:18:37.104797Z",
     "start_time": "2024-08-19T10:18:36.063601Z"
    }
   },
   "id": "c50360607882a378",
   "execution_count": 29
  },
  {
   "cell_type": "code",
   "outputs": [
    {
     "data": {
      "text/plain": "isFlaggedFraud\n0    6362604\n1         16\nName: count, dtype: int64"
     },
     "execution_count": 30,
     "metadata": {},
     "output_type": "execute_result"
    }
   ],
   "source": [
    "\n",
    "is_flagged_count = df['isFlaggedFraud'].value_counts()\n",
    "is_flagged_count"
   ],
   "metadata": {
    "collapsed": false,
    "ExecuteTime": {
     "end_time": "2024-08-19T10:18:37.314700100Z",
     "start_time": "2024-08-19T10:18:37.085591100Z"
    }
   },
   "id": "8af81f8b3f541fc8",
   "execution_count": 30
  },
  {
   "cell_type": "code",
   "outputs": [
    {
     "data": {
      "text/plain": "isFlaggedFraud\nnot flagged    6362604\nflagged             16\nName: count, dtype: int64"
     },
     "execution_count": 31,
     "metadata": {},
     "output_type": "execute_result"
    }
   ],
   "source": [
    "df[\"isFlaggedFraud\"] = df[\"isFlaggedFraud\"].map({\n",
    "    0: \"not flagged\",\n",
    "    1: \"flagged\"\n",
    "    \n",
    "})\n",
    "is_flagged_count = df[\"isFlaggedFraud\"].value_counts()\n",
    "is_flagged_count"
   ],
   "metadata": {
    "collapsed": false,
    "ExecuteTime": {
     "end_time": "2024-08-19T10:18:38.327047400Z",
     "start_time": "2024-08-19T10:18:37.333683100Z"
    }
   },
   "id": "5662b799b192022c",
   "execution_count": 31
  },
  {
   "cell_type": "code",
   "outputs": [
    {
     "data": {
      "text/plain": "         step      type       amount     nameOrig  oldbalanceOrg  \\\n2736446   212  TRANSFER   4953893.08   C728984460     4953893.08   \n3247297   250  TRANSFER   1343002.08  C1100582606     1343002.08   \n3760288   279  TRANSFER    536624.41  C1035541766      536624.41   \n5563713   387  TRANSFER   4892193.09   C908544136     4892193.09   \n5996407   425  TRANSFER  10000000.00   C689608084    19585040.37   \n5996409   425  TRANSFER   9585040.37   C452586515    19585040.37   \n6168499   554  TRANSFER   3576297.10   C193696150     3576297.10   \n6205439   586  TRANSFER    353874.22  C1684585475      353874.22   \n6266413   617  TRANSFER   2542664.27   C786455622     2542664.27   \n6281482   646  TRANSFER  10000000.00    C19004745    10399045.08   \n6281484   646  TRANSFER    399045.08   C724693370    10399045.08   \n6296014   671  TRANSFER   3441041.46   C917414431     3441041.46   \n6351225   702  TRANSFER   3171085.59  C1892216157     3171085.59   \n6362460   730  TRANSFER  10000000.00  C2140038573    17316255.05   \n6362462   730  TRANSFER   7316255.05  C1869569059    17316255.05   \n6362584   741  TRANSFER   5674547.89   C992223106     5674547.89   \n\n         newbalanceOrig     nameDest  oldbalanceDest  newbalanceDest  isFraud  \\\n2736446      4953893.08   C639921569             0.0             0.0        1   \n3247297      1343002.08  C1147517658             0.0             0.0        1   \n3760288       536624.41  C1100697970             0.0             0.0        1   \n5563713      4892193.09   C891140444             0.0             0.0        1   \n5996407     19585040.37  C1392803603             0.0             0.0        1   \n5996409     19585040.37  C1109166882             0.0             0.0        1   \n6168499      3576297.10   C484597480             0.0             0.0        1   \n6205439       353874.22  C1770418982             0.0             0.0        1   \n6266413      2542664.27   C661958277             0.0             0.0        1   \n6281482     10399045.08  C1806199534             0.0             0.0        1   \n6281484     10399045.08  C1909486199             0.0             0.0        1   \n6296014      3441041.46  C1082139865             0.0             0.0        1   \n6351225      3171085.59  C1308068787             0.0             0.0        1   \n6362460     17316255.05  C1395467927             0.0             0.0        1   \n6362462     17316255.05  C1861208726             0.0             0.0        1   \n6362584      5674547.89  C1366804249             0.0             0.0        1   \n\n        isFlaggedFraud  \n2736446        flagged  \n3247297        flagged  \n3760288        flagged  \n5563713        flagged  \n5996407        flagged  \n5996409        flagged  \n6168499        flagged  \n6205439        flagged  \n6266413        flagged  \n6281482        flagged  \n6281484        flagged  \n6296014        flagged  \n6351225        flagged  \n6362460        flagged  \n6362462        flagged  \n6362584        flagged  ",
      "text/html": "<div>\n<style scoped>\n    .dataframe tbody tr th:only-of-type {\n        vertical-align: middle;\n    }\n\n    .dataframe tbody tr th {\n        vertical-align: top;\n    }\n\n    .dataframe thead th {\n        text-align: right;\n    }\n</style>\n<table border=\"1\" class=\"dataframe\">\n  <thead>\n    <tr style=\"text-align: right;\">\n      <th></th>\n      <th>step</th>\n      <th>type</th>\n      <th>amount</th>\n      <th>nameOrig</th>\n      <th>oldbalanceOrg</th>\n      <th>newbalanceOrig</th>\n      <th>nameDest</th>\n      <th>oldbalanceDest</th>\n      <th>newbalanceDest</th>\n      <th>isFraud</th>\n      <th>isFlaggedFraud</th>\n    </tr>\n  </thead>\n  <tbody>\n    <tr>\n      <th>2736446</th>\n      <td>212</td>\n      <td>TRANSFER</td>\n      <td>4953893.08</td>\n      <td>C728984460</td>\n      <td>4953893.08</td>\n      <td>4953893.08</td>\n      <td>C639921569</td>\n      <td>0.0</td>\n      <td>0.0</td>\n      <td>1</td>\n      <td>flagged</td>\n    </tr>\n    <tr>\n      <th>3247297</th>\n      <td>250</td>\n      <td>TRANSFER</td>\n      <td>1343002.08</td>\n      <td>C1100582606</td>\n      <td>1343002.08</td>\n      <td>1343002.08</td>\n      <td>C1147517658</td>\n      <td>0.0</td>\n      <td>0.0</td>\n      <td>1</td>\n      <td>flagged</td>\n    </tr>\n    <tr>\n      <th>3760288</th>\n      <td>279</td>\n      <td>TRANSFER</td>\n      <td>536624.41</td>\n      <td>C1035541766</td>\n      <td>536624.41</td>\n      <td>536624.41</td>\n      <td>C1100697970</td>\n      <td>0.0</td>\n      <td>0.0</td>\n      <td>1</td>\n      <td>flagged</td>\n    </tr>\n    <tr>\n      <th>5563713</th>\n      <td>387</td>\n      <td>TRANSFER</td>\n      <td>4892193.09</td>\n      <td>C908544136</td>\n      <td>4892193.09</td>\n      <td>4892193.09</td>\n      <td>C891140444</td>\n      <td>0.0</td>\n      <td>0.0</td>\n      <td>1</td>\n      <td>flagged</td>\n    </tr>\n    <tr>\n      <th>5996407</th>\n      <td>425</td>\n      <td>TRANSFER</td>\n      <td>10000000.00</td>\n      <td>C689608084</td>\n      <td>19585040.37</td>\n      <td>19585040.37</td>\n      <td>C1392803603</td>\n      <td>0.0</td>\n      <td>0.0</td>\n      <td>1</td>\n      <td>flagged</td>\n    </tr>\n    <tr>\n      <th>5996409</th>\n      <td>425</td>\n      <td>TRANSFER</td>\n      <td>9585040.37</td>\n      <td>C452586515</td>\n      <td>19585040.37</td>\n      <td>19585040.37</td>\n      <td>C1109166882</td>\n      <td>0.0</td>\n      <td>0.0</td>\n      <td>1</td>\n      <td>flagged</td>\n    </tr>\n    <tr>\n      <th>6168499</th>\n      <td>554</td>\n      <td>TRANSFER</td>\n      <td>3576297.10</td>\n      <td>C193696150</td>\n      <td>3576297.10</td>\n      <td>3576297.10</td>\n      <td>C484597480</td>\n      <td>0.0</td>\n      <td>0.0</td>\n      <td>1</td>\n      <td>flagged</td>\n    </tr>\n    <tr>\n      <th>6205439</th>\n      <td>586</td>\n      <td>TRANSFER</td>\n      <td>353874.22</td>\n      <td>C1684585475</td>\n      <td>353874.22</td>\n      <td>353874.22</td>\n      <td>C1770418982</td>\n      <td>0.0</td>\n      <td>0.0</td>\n      <td>1</td>\n      <td>flagged</td>\n    </tr>\n    <tr>\n      <th>6266413</th>\n      <td>617</td>\n      <td>TRANSFER</td>\n      <td>2542664.27</td>\n      <td>C786455622</td>\n      <td>2542664.27</td>\n      <td>2542664.27</td>\n      <td>C661958277</td>\n      <td>0.0</td>\n      <td>0.0</td>\n      <td>1</td>\n      <td>flagged</td>\n    </tr>\n    <tr>\n      <th>6281482</th>\n      <td>646</td>\n      <td>TRANSFER</td>\n      <td>10000000.00</td>\n      <td>C19004745</td>\n      <td>10399045.08</td>\n      <td>10399045.08</td>\n      <td>C1806199534</td>\n      <td>0.0</td>\n      <td>0.0</td>\n      <td>1</td>\n      <td>flagged</td>\n    </tr>\n    <tr>\n      <th>6281484</th>\n      <td>646</td>\n      <td>TRANSFER</td>\n      <td>399045.08</td>\n      <td>C724693370</td>\n      <td>10399045.08</td>\n      <td>10399045.08</td>\n      <td>C1909486199</td>\n      <td>0.0</td>\n      <td>0.0</td>\n      <td>1</td>\n      <td>flagged</td>\n    </tr>\n    <tr>\n      <th>6296014</th>\n      <td>671</td>\n      <td>TRANSFER</td>\n      <td>3441041.46</td>\n      <td>C917414431</td>\n      <td>3441041.46</td>\n      <td>3441041.46</td>\n      <td>C1082139865</td>\n      <td>0.0</td>\n      <td>0.0</td>\n      <td>1</td>\n      <td>flagged</td>\n    </tr>\n    <tr>\n      <th>6351225</th>\n      <td>702</td>\n      <td>TRANSFER</td>\n      <td>3171085.59</td>\n      <td>C1892216157</td>\n      <td>3171085.59</td>\n      <td>3171085.59</td>\n      <td>C1308068787</td>\n      <td>0.0</td>\n      <td>0.0</td>\n      <td>1</td>\n      <td>flagged</td>\n    </tr>\n    <tr>\n      <th>6362460</th>\n      <td>730</td>\n      <td>TRANSFER</td>\n      <td>10000000.00</td>\n      <td>C2140038573</td>\n      <td>17316255.05</td>\n      <td>17316255.05</td>\n      <td>C1395467927</td>\n      <td>0.0</td>\n      <td>0.0</td>\n      <td>1</td>\n      <td>flagged</td>\n    </tr>\n    <tr>\n      <th>6362462</th>\n      <td>730</td>\n      <td>TRANSFER</td>\n      <td>7316255.05</td>\n      <td>C1869569059</td>\n      <td>17316255.05</td>\n      <td>17316255.05</td>\n      <td>C1861208726</td>\n      <td>0.0</td>\n      <td>0.0</td>\n      <td>1</td>\n      <td>flagged</td>\n    </tr>\n    <tr>\n      <th>6362584</th>\n      <td>741</td>\n      <td>TRANSFER</td>\n      <td>5674547.89</td>\n      <td>C992223106</td>\n      <td>5674547.89</td>\n      <td>5674547.89</td>\n      <td>C1366804249</td>\n      <td>0.0</td>\n      <td>0.0</td>\n      <td>1</td>\n      <td>flagged</td>\n    </tr>\n  </tbody>\n</table>\n</div>"
     },
     "execution_count": 32,
     "metadata": {},
     "output_type": "execute_result"
    }
   ],
   "source": [
    "# Assuming df is your DataFrame\n",
    "flagged_fraud_df = df[df['isFlaggedFraud'] == \"flagged\"]\n",
    "\n",
    "# Display the result\n",
    "flagged_fraud_df.head(16)\n"
   ],
   "metadata": {
    "collapsed": false,
    "ExecuteTime": {
     "end_time": "2024-08-19T10:18:39.932950Z",
     "start_time": "2024-08-19T10:18:38.313333400Z"
    }
   },
   "id": "e1d0a610a28cf4a4",
   "execution_count": 32
  },
  {
   "cell_type": "code",
   "outputs": [
    {
     "data": {
      "application/vnd.plotly.v1+json": {
       "data": [
        {
         "alignmentgroup": "True",
         "hovertemplate": "Transaction Type=%{x}<br>Count=%{y}<extra></extra>",
         "legendgroup": "",
         "marker": {
          "color": "#636efa",
          "pattern": {
           "shape": ""
          }
         },
         "name": "",
         "offsetgroup": "",
         "orientation": "v",
         "showlegend": false,
         "textposition": "auto",
         "x": [
          "CASH_OUT",
          "PAYMENT",
          "CASH_IN",
          "TRANSFER",
          "DEBIT"
         ],
         "xaxis": "x",
         "y": [
          2237500,
          2151495,
          1399284,
          532909,
          41432
         ],
         "yaxis": "y",
         "type": "bar"
        }
       ],
       "layout": {
        "template": {
         "data": {
          "histogram2dcontour": [
           {
            "type": "histogram2dcontour",
            "colorbar": {
             "outlinewidth": 0,
             "ticks": ""
            },
            "colorscale": [
             [
              0.0,
              "#0d0887"
             ],
             [
              0.1111111111111111,
              "#46039f"
             ],
             [
              0.2222222222222222,
              "#7201a8"
             ],
             [
              0.3333333333333333,
              "#9c179e"
             ],
             [
              0.4444444444444444,
              "#bd3786"
             ],
             [
              0.5555555555555556,
              "#d8576b"
             ],
             [
              0.6666666666666666,
              "#ed7953"
             ],
             [
              0.7777777777777778,
              "#fb9f3a"
             ],
             [
              0.8888888888888888,
              "#fdca26"
             ],
             [
              1.0,
              "#f0f921"
             ]
            ]
           }
          ],
          "choropleth": [
           {
            "type": "choropleth",
            "colorbar": {
             "outlinewidth": 0,
             "ticks": ""
            }
           }
          ],
          "histogram2d": [
           {
            "type": "histogram2d",
            "colorbar": {
             "outlinewidth": 0,
             "ticks": ""
            },
            "colorscale": [
             [
              0.0,
              "#0d0887"
             ],
             [
              0.1111111111111111,
              "#46039f"
             ],
             [
              0.2222222222222222,
              "#7201a8"
             ],
             [
              0.3333333333333333,
              "#9c179e"
             ],
             [
              0.4444444444444444,
              "#bd3786"
             ],
             [
              0.5555555555555556,
              "#d8576b"
             ],
             [
              0.6666666666666666,
              "#ed7953"
             ],
             [
              0.7777777777777778,
              "#fb9f3a"
             ],
             [
              0.8888888888888888,
              "#fdca26"
             ],
             [
              1.0,
              "#f0f921"
             ]
            ]
           }
          ],
          "heatmap": [
           {
            "type": "heatmap",
            "colorbar": {
             "outlinewidth": 0,
             "ticks": ""
            },
            "colorscale": [
             [
              0.0,
              "#0d0887"
             ],
             [
              0.1111111111111111,
              "#46039f"
             ],
             [
              0.2222222222222222,
              "#7201a8"
             ],
             [
              0.3333333333333333,
              "#9c179e"
             ],
             [
              0.4444444444444444,
              "#bd3786"
             ],
             [
              0.5555555555555556,
              "#d8576b"
             ],
             [
              0.6666666666666666,
              "#ed7953"
             ],
             [
              0.7777777777777778,
              "#fb9f3a"
             ],
             [
              0.8888888888888888,
              "#fdca26"
             ],
             [
              1.0,
              "#f0f921"
             ]
            ]
           }
          ],
          "heatmapgl": [
           {
            "type": "heatmapgl",
            "colorbar": {
             "outlinewidth": 0,
             "ticks": ""
            },
            "colorscale": [
             [
              0.0,
              "#0d0887"
             ],
             [
              0.1111111111111111,
              "#46039f"
             ],
             [
              0.2222222222222222,
              "#7201a8"
             ],
             [
              0.3333333333333333,
              "#9c179e"
             ],
             [
              0.4444444444444444,
              "#bd3786"
             ],
             [
              0.5555555555555556,
              "#d8576b"
             ],
             [
              0.6666666666666666,
              "#ed7953"
             ],
             [
              0.7777777777777778,
              "#fb9f3a"
             ],
             [
              0.8888888888888888,
              "#fdca26"
             ],
             [
              1.0,
              "#f0f921"
             ]
            ]
           }
          ],
          "contourcarpet": [
           {
            "type": "contourcarpet",
            "colorbar": {
             "outlinewidth": 0,
             "ticks": ""
            }
           }
          ],
          "contour": [
           {
            "type": "contour",
            "colorbar": {
             "outlinewidth": 0,
             "ticks": ""
            },
            "colorscale": [
             [
              0.0,
              "#0d0887"
             ],
             [
              0.1111111111111111,
              "#46039f"
             ],
             [
              0.2222222222222222,
              "#7201a8"
             ],
             [
              0.3333333333333333,
              "#9c179e"
             ],
             [
              0.4444444444444444,
              "#bd3786"
             ],
             [
              0.5555555555555556,
              "#d8576b"
             ],
             [
              0.6666666666666666,
              "#ed7953"
             ],
             [
              0.7777777777777778,
              "#fb9f3a"
             ],
             [
              0.8888888888888888,
              "#fdca26"
             ],
             [
              1.0,
              "#f0f921"
             ]
            ]
           }
          ],
          "surface": [
           {
            "type": "surface",
            "colorbar": {
             "outlinewidth": 0,
             "ticks": ""
            },
            "colorscale": [
             [
              0.0,
              "#0d0887"
             ],
             [
              0.1111111111111111,
              "#46039f"
             ],
             [
              0.2222222222222222,
              "#7201a8"
             ],
             [
              0.3333333333333333,
              "#9c179e"
             ],
             [
              0.4444444444444444,
              "#bd3786"
             ],
             [
              0.5555555555555556,
              "#d8576b"
             ],
             [
              0.6666666666666666,
              "#ed7953"
             ],
             [
              0.7777777777777778,
              "#fb9f3a"
             ],
             [
              0.8888888888888888,
              "#fdca26"
             ],
             [
              1.0,
              "#f0f921"
             ]
            ]
           }
          ],
          "mesh3d": [
           {
            "type": "mesh3d",
            "colorbar": {
             "outlinewidth": 0,
             "ticks": ""
            }
           }
          ],
          "scatter": [
           {
            "marker": {
             "line": {
              "color": "#283442"
             }
            },
            "type": "scatter"
           }
          ],
          "parcoords": [
           {
            "type": "parcoords",
            "line": {
             "colorbar": {
              "outlinewidth": 0,
              "ticks": ""
             }
            }
           }
          ],
          "scatterpolargl": [
           {
            "type": "scatterpolargl",
            "marker": {
             "colorbar": {
              "outlinewidth": 0,
              "ticks": ""
             }
            }
           }
          ],
          "bar": [
           {
            "error_x": {
             "color": "#f2f5fa"
            },
            "error_y": {
             "color": "#f2f5fa"
            },
            "marker": {
             "line": {
              "color": "rgb(17,17,17)",
              "width": 0.5
             },
             "pattern": {
              "fillmode": "overlay",
              "size": 10,
              "solidity": 0.2
             }
            },
            "type": "bar"
           }
          ],
          "scattergeo": [
           {
            "type": "scattergeo",
            "marker": {
             "colorbar": {
              "outlinewidth": 0,
              "ticks": ""
             }
            }
           }
          ],
          "scatterpolar": [
           {
            "type": "scatterpolar",
            "marker": {
             "colorbar": {
              "outlinewidth": 0,
              "ticks": ""
             }
            }
           }
          ],
          "histogram": [
           {
            "marker": {
             "pattern": {
              "fillmode": "overlay",
              "size": 10,
              "solidity": 0.2
             }
            },
            "type": "histogram"
           }
          ],
          "scattergl": [
           {
            "marker": {
             "line": {
              "color": "#283442"
             }
            },
            "type": "scattergl"
           }
          ],
          "scatter3d": [
           {
            "type": "scatter3d",
            "line": {
             "colorbar": {
              "outlinewidth": 0,
              "ticks": ""
             }
            },
            "marker": {
             "colorbar": {
              "outlinewidth": 0,
              "ticks": ""
             }
            }
           }
          ],
          "scattermapbox": [
           {
            "type": "scattermapbox",
            "marker": {
             "colorbar": {
              "outlinewidth": 0,
              "ticks": ""
             }
            }
           }
          ],
          "scatterternary": [
           {
            "type": "scatterternary",
            "marker": {
             "colorbar": {
              "outlinewidth": 0,
              "ticks": ""
             }
            }
           }
          ],
          "scattercarpet": [
           {
            "type": "scattercarpet",
            "marker": {
             "colorbar": {
              "outlinewidth": 0,
              "ticks": ""
             }
            }
           }
          ],
          "carpet": [
           {
            "aaxis": {
             "endlinecolor": "#A2B1C6",
             "gridcolor": "#506784",
             "linecolor": "#506784",
             "minorgridcolor": "#506784",
             "startlinecolor": "#A2B1C6"
            },
            "baxis": {
             "endlinecolor": "#A2B1C6",
             "gridcolor": "#506784",
             "linecolor": "#506784",
             "minorgridcolor": "#506784",
             "startlinecolor": "#A2B1C6"
            },
            "type": "carpet"
           }
          ],
          "table": [
           {
            "cells": {
             "fill": {
              "color": "#506784"
             },
             "line": {
              "color": "rgb(17,17,17)"
             }
            },
            "header": {
             "fill": {
              "color": "#2a3f5f"
             },
             "line": {
              "color": "rgb(17,17,17)"
             }
            },
            "type": "table"
           }
          ],
          "barpolar": [
           {
            "marker": {
             "line": {
              "color": "rgb(17,17,17)",
              "width": 0.5
             },
             "pattern": {
              "fillmode": "overlay",
              "size": 10,
              "solidity": 0.2
             }
            },
            "type": "barpolar"
           }
          ],
          "pie": [
           {
            "automargin": true,
            "type": "pie"
           }
          ]
         },
         "layout": {
          "autotypenumbers": "strict",
          "colorway": [
           "#636efa",
           "#EF553B",
           "#00cc96",
           "#ab63fa",
           "#FFA15A",
           "#19d3f3",
           "#FF6692",
           "#B6E880",
           "#FF97FF",
           "#FECB52"
          ],
          "font": {
           "color": "#f2f5fa"
          },
          "hovermode": "closest",
          "hoverlabel": {
           "align": "left"
          },
          "paper_bgcolor": "rgb(17,17,17)",
          "plot_bgcolor": "rgb(17,17,17)",
          "polar": {
           "bgcolor": "rgb(17,17,17)",
           "angularaxis": {
            "gridcolor": "#506784",
            "linecolor": "#506784",
            "ticks": ""
           },
           "radialaxis": {
            "gridcolor": "#506784",
            "linecolor": "#506784",
            "ticks": ""
           }
          },
          "ternary": {
           "bgcolor": "rgb(17,17,17)",
           "aaxis": {
            "gridcolor": "#506784",
            "linecolor": "#506784",
            "ticks": ""
           },
           "baxis": {
            "gridcolor": "#506784",
            "linecolor": "#506784",
            "ticks": ""
           },
           "caxis": {
            "gridcolor": "#506784",
            "linecolor": "#506784",
            "ticks": ""
           }
          },
          "coloraxis": {
           "colorbar": {
            "outlinewidth": 0,
            "ticks": ""
           }
          },
          "colorscale": {
           "sequential": [
            [
             0.0,
             "#0d0887"
            ],
            [
             0.1111111111111111,
             "#46039f"
            ],
            [
             0.2222222222222222,
             "#7201a8"
            ],
            [
             0.3333333333333333,
             "#9c179e"
            ],
            [
             0.4444444444444444,
             "#bd3786"
            ],
            [
             0.5555555555555556,
             "#d8576b"
            ],
            [
             0.6666666666666666,
             "#ed7953"
            ],
            [
             0.7777777777777778,
             "#fb9f3a"
            ],
            [
             0.8888888888888888,
             "#fdca26"
            ],
            [
             1.0,
             "#f0f921"
            ]
           ],
           "sequentialminus": [
            [
             0.0,
             "#0d0887"
            ],
            [
             0.1111111111111111,
             "#46039f"
            ],
            [
             0.2222222222222222,
             "#7201a8"
            ],
            [
             0.3333333333333333,
             "#9c179e"
            ],
            [
             0.4444444444444444,
             "#bd3786"
            ],
            [
             0.5555555555555556,
             "#d8576b"
            ],
            [
             0.6666666666666666,
             "#ed7953"
            ],
            [
             0.7777777777777778,
             "#fb9f3a"
            ],
            [
             0.8888888888888888,
             "#fdca26"
            ],
            [
             1.0,
             "#f0f921"
            ]
           ],
           "diverging": [
            [
             0,
             "#8e0152"
            ],
            [
             0.1,
             "#c51b7d"
            ],
            [
             0.2,
             "#de77ae"
            ],
            [
             0.3,
             "#f1b6da"
            ],
            [
             0.4,
             "#fde0ef"
            ],
            [
             0.5,
             "#f7f7f7"
            ],
            [
             0.6,
             "#e6f5d0"
            ],
            [
             0.7,
             "#b8e186"
            ],
            [
             0.8,
             "#7fbc41"
            ],
            [
             0.9,
             "#4d9221"
            ],
            [
             1,
             "#276419"
            ]
           ]
          },
          "xaxis": {
           "gridcolor": "#283442",
           "linecolor": "#506784",
           "ticks": "",
           "title": {
            "standoff": 15
           },
           "zerolinecolor": "#283442",
           "automargin": true,
           "zerolinewidth": 2
          },
          "yaxis": {
           "gridcolor": "#283442",
           "linecolor": "#506784",
           "ticks": "",
           "title": {
            "standoff": 15
           },
           "zerolinecolor": "#283442",
           "automargin": true,
           "zerolinewidth": 2
          },
          "scene": {
           "xaxis": {
            "backgroundcolor": "rgb(17,17,17)",
            "gridcolor": "#506784",
            "linecolor": "#506784",
            "showbackground": true,
            "ticks": "",
            "zerolinecolor": "#C8D4E3",
            "gridwidth": 2
           },
           "yaxis": {
            "backgroundcolor": "rgb(17,17,17)",
            "gridcolor": "#506784",
            "linecolor": "#506784",
            "showbackground": true,
            "ticks": "",
            "zerolinecolor": "#C8D4E3",
            "gridwidth": 2
           },
           "zaxis": {
            "backgroundcolor": "rgb(17,17,17)",
            "gridcolor": "#506784",
            "linecolor": "#506784",
            "showbackground": true,
            "ticks": "",
            "zerolinecolor": "#C8D4E3",
            "gridwidth": 2
           }
          },
          "shapedefaults": {
           "line": {
            "color": "#f2f5fa"
           }
          },
          "annotationdefaults": {
           "arrowcolor": "#f2f5fa",
           "arrowhead": 0,
           "arrowwidth": 1
          },
          "geo": {
           "bgcolor": "rgb(17,17,17)",
           "landcolor": "rgb(17,17,17)",
           "subunitcolor": "#506784",
           "showland": true,
           "showlakes": true,
           "lakecolor": "rgb(17,17,17)"
          },
          "title": {
           "x": 0.05
          },
          "updatemenudefaults": {
           "bgcolor": "#506784",
           "borderwidth": 0
          },
          "sliderdefaults": {
           "bgcolor": "#C8D4E3",
           "borderwidth": 1,
           "bordercolor": "rgb(17,17,17)",
           "tickwidth": 0
          },
          "mapbox": {
           "style": "dark"
          }
         }
        },
        "xaxis": {
         "anchor": "y",
         "domain": [
          0.0,
          1.0
         ],
         "title": {
          "text": "Transaction Type"
         }
        },
        "yaxis": {
         "anchor": "x",
         "domain": [
          0.0,
          1.0
         ],
         "title": {
          "text": "Count"
         }
        },
        "legend": {
         "tracegroupgap": 0
        },
        "title": {
         "text": "Transaction Type Distribution"
        },
        "barmode": "relative"
       },
       "config": {
        "plotlyServerURL": "https://plot.ly"
       }
      },
      "text/html": "<div>                            <div id=\"4ed6904b-203a-4349-862d-427dc1f0ffdd\" class=\"plotly-graph-div\" style=\"height:525px; width:100%;\"></div>            <script type=\"text/javascript\">                require([\"plotly\"], function(Plotly) {                    window.PLOTLYENV=window.PLOTLYENV || {};                                    if (document.getElementById(\"4ed6904b-203a-4349-862d-427dc1f0ffdd\")) {                    Plotly.newPlot(                        \"4ed6904b-203a-4349-862d-427dc1f0ffdd\",                        [{\"alignmentgroup\":\"True\",\"hovertemplate\":\"Transaction Type=%{x}\\u003cbr\\u003eCount=%{y}\\u003cextra\\u003e\\u003c\\u002fextra\\u003e\",\"legendgroup\":\"\",\"marker\":{\"color\":\"#636efa\",\"pattern\":{\"shape\":\"\"}},\"name\":\"\",\"offsetgroup\":\"\",\"orientation\":\"v\",\"showlegend\":false,\"textposition\":\"auto\",\"x\":[\"CASH_OUT\",\"PAYMENT\",\"CASH_IN\",\"TRANSFER\",\"DEBIT\"],\"xaxis\":\"x\",\"y\":[2237500,2151495,1399284,532909,41432],\"yaxis\":\"y\",\"type\":\"bar\"}],                        {\"template\":{\"data\":{\"histogram2dcontour\":[{\"type\":\"histogram2dcontour\",\"colorbar\":{\"outlinewidth\":0,\"ticks\":\"\"},\"colorscale\":[[0.0,\"#0d0887\"],[0.1111111111111111,\"#46039f\"],[0.2222222222222222,\"#7201a8\"],[0.3333333333333333,\"#9c179e\"],[0.4444444444444444,\"#bd3786\"],[0.5555555555555556,\"#d8576b\"],[0.6666666666666666,\"#ed7953\"],[0.7777777777777778,\"#fb9f3a\"],[0.8888888888888888,\"#fdca26\"],[1.0,\"#f0f921\"]]}],\"choropleth\":[{\"type\":\"choropleth\",\"colorbar\":{\"outlinewidth\":0,\"ticks\":\"\"}}],\"histogram2d\":[{\"type\":\"histogram2d\",\"colorbar\":{\"outlinewidth\":0,\"ticks\":\"\"},\"colorscale\":[[0.0,\"#0d0887\"],[0.1111111111111111,\"#46039f\"],[0.2222222222222222,\"#7201a8\"],[0.3333333333333333,\"#9c179e\"],[0.4444444444444444,\"#bd3786\"],[0.5555555555555556,\"#d8576b\"],[0.6666666666666666,\"#ed7953\"],[0.7777777777777778,\"#fb9f3a\"],[0.8888888888888888,\"#fdca26\"],[1.0,\"#f0f921\"]]}],\"heatmap\":[{\"type\":\"heatmap\",\"colorbar\":{\"outlinewidth\":0,\"ticks\":\"\"},\"colorscale\":[[0.0,\"#0d0887\"],[0.1111111111111111,\"#46039f\"],[0.2222222222222222,\"#7201a8\"],[0.3333333333333333,\"#9c179e\"],[0.4444444444444444,\"#bd3786\"],[0.5555555555555556,\"#d8576b\"],[0.6666666666666666,\"#ed7953\"],[0.7777777777777778,\"#fb9f3a\"],[0.8888888888888888,\"#fdca26\"],[1.0,\"#f0f921\"]]}],\"heatmapgl\":[{\"type\":\"heatmapgl\",\"colorbar\":{\"outlinewidth\":0,\"ticks\":\"\"},\"colorscale\":[[0.0,\"#0d0887\"],[0.1111111111111111,\"#46039f\"],[0.2222222222222222,\"#7201a8\"],[0.3333333333333333,\"#9c179e\"],[0.4444444444444444,\"#bd3786\"],[0.5555555555555556,\"#d8576b\"],[0.6666666666666666,\"#ed7953\"],[0.7777777777777778,\"#fb9f3a\"],[0.8888888888888888,\"#fdca26\"],[1.0,\"#f0f921\"]]}],\"contourcarpet\":[{\"type\":\"contourcarpet\",\"colorbar\":{\"outlinewidth\":0,\"ticks\":\"\"}}],\"contour\":[{\"type\":\"contour\",\"colorbar\":{\"outlinewidth\":0,\"ticks\":\"\"},\"colorscale\":[[0.0,\"#0d0887\"],[0.1111111111111111,\"#46039f\"],[0.2222222222222222,\"#7201a8\"],[0.3333333333333333,\"#9c179e\"],[0.4444444444444444,\"#bd3786\"],[0.5555555555555556,\"#d8576b\"],[0.6666666666666666,\"#ed7953\"],[0.7777777777777778,\"#fb9f3a\"],[0.8888888888888888,\"#fdca26\"],[1.0,\"#f0f921\"]]}],\"surface\":[{\"type\":\"surface\",\"colorbar\":{\"outlinewidth\":0,\"ticks\":\"\"},\"colorscale\":[[0.0,\"#0d0887\"],[0.1111111111111111,\"#46039f\"],[0.2222222222222222,\"#7201a8\"],[0.3333333333333333,\"#9c179e\"],[0.4444444444444444,\"#bd3786\"],[0.5555555555555556,\"#d8576b\"],[0.6666666666666666,\"#ed7953\"],[0.7777777777777778,\"#fb9f3a\"],[0.8888888888888888,\"#fdca26\"],[1.0,\"#f0f921\"]]}],\"mesh3d\":[{\"type\":\"mesh3d\",\"colorbar\":{\"outlinewidth\":0,\"ticks\":\"\"}}],\"scatter\":[{\"marker\":{\"line\":{\"color\":\"#283442\"}},\"type\":\"scatter\"}],\"parcoords\":[{\"type\":\"parcoords\",\"line\":{\"colorbar\":{\"outlinewidth\":0,\"ticks\":\"\"}}}],\"scatterpolargl\":[{\"type\":\"scatterpolargl\",\"marker\":{\"colorbar\":{\"outlinewidth\":0,\"ticks\":\"\"}}}],\"bar\":[{\"error_x\":{\"color\":\"#f2f5fa\"},\"error_y\":{\"color\":\"#f2f5fa\"},\"marker\":{\"line\":{\"color\":\"rgb(17,17,17)\",\"width\":0.5},\"pattern\":{\"fillmode\":\"overlay\",\"size\":10,\"solidity\":0.2}},\"type\":\"bar\"}],\"scattergeo\":[{\"type\":\"scattergeo\",\"marker\":{\"colorbar\":{\"outlinewidth\":0,\"ticks\":\"\"}}}],\"scatterpolar\":[{\"type\":\"scatterpolar\",\"marker\":{\"colorbar\":{\"outlinewidth\":0,\"ticks\":\"\"}}}],\"histogram\":[{\"marker\":{\"pattern\":{\"fillmode\":\"overlay\",\"size\":10,\"solidity\":0.2}},\"type\":\"histogram\"}],\"scattergl\":[{\"marker\":{\"line\":{\"color\":\"#283442\"}},\"type\":\"scattergl\"}],\"scatter3d\":[{\"type\":\"scatter3d\",\"line\":{\"colorbar\":{\"outlinewidth\":0,\"ticks\":\"\"}},\"marker\":{\"colorbar\":{\"outlinewidth\":0,\"ticks\":\"\"}}}],\"scattermapbox\":[{\"type\":\"scattermapbox\",\"marker\":{\"colorbar\":{\"outlinewidth\":0,\"ticks\":\"\"}}}],\"scatterternary\":[{\"type\":\"scatterternary\",\"marker\":{\"colorbar\":{\"outlinewidth\":0,\"ticks\":\"\"}}}],\"scattercarpet\":[{\"type\":\"scattercarpet\",\"marker\":{\"colorbar\":{\"outlinewidth\":0,\"ticks\":\"\"}}}],\"carpet\":[{\"aaxis\":{\"endlinecolor\":\"#A2B1C6\",\"gridcolor\":\"#506784\",\"linecolor\":\"#506784\",\"minorgridcolor\":\"#506784\",\"startlinecolor\":\"#A2B1C6\"},\"baxis\":{\"endlinecolor\":\"#A2B1C6\",\"gridcolor\":\"#506784\",\"linecolor\":\"#506784\",\"minorgridcolor\":\"#506784\",\"startlinecolor\":\"#A2B1C6\"},\"type\":\"carpet\"}],\"table\":[{\"cells\":{\"fill\":{\"color\":\"#506784\"},\"line\":{\"color\":\"rgb(17,17,17)\"}},\"header\":{\"fill\":{\"color\":\"#2a3f5f\"},\"line\":{\"color\":\"rgb(17,17,17)\"}},\"type\":\"table\"}],\"barpolar\":[{\"marker\":{\"line\":{\"color\":\"rgb(17,17,17)\",\"width\":0.5},\"pattern\":{\"fillmode\":\"overlay\",\"size\":10,\"solidity\":0.2}},\"type\":\"barpolar\"}],\"pie\":[{\"automargin\":true,\"type\":\"pie\"}]},\"layout\":{\"autotypenumbers\":\"strict\",\"colorway\":[\"#636efa\",\"#EF553B\",\"#00cc96\",\"#ab63fa\",\"#FFA15A\",\"#19d3f3\",\"#FF6692\",\"#B6E880\",\"#FF97FF\",\"#FECB52\"],\"font\":{\"color\":\"#f2f5fa\"},\"hovermode\":\"closest\",\"hoverlabel\":{\"align\":\"left\"},\"paper_bgcolor\":\"rgb(17,17,17)\",\"plot_bgcolor\":\"rgb(17,17,17)\",\"polar\":{\"bgcolor\":\"rgb(17,17,17)\",\"angularaxis\":{\"gridcolor\":\"#506784\",\"linecolor\":\"#506784\",\"ticks\":\"\"},\"radialaxis\":{\"gridcolor\":\"#506784\",\"linecolor\":\"#506784\",\"ticks\":\"\"}},\"ternary\":{\"bgcolor\":\"rgb(17,17,17)\",\"aaxis\":{\"gridcolor\":\"#506784\",\"linecolor\":\"#506784\",\"ticks\":\"\"},\"baxis\":{\"gridcolor\":\"#506784\",\"linecolor\":\"#506784\",\"ticks\":\"\"},\"caxis\":{\"gridcolor\":\"#506784\",\"linecolor\":\"#506784\",\"ticks\":\"\"}},\"coloraxis\":{\"colorbar\":{\"outlinewidth\":0,\"ticks\":\"\"}},\"colorscale\":{\"sequential\":[[0.0,\"#0d0887\"],[0.1111111111111111,\"#46039f\"],[0.2222222222222222,\"#7201a8\"],[0.3333333333333333,\"#9c179e\"],[0.4444444444444444,\"#bd3786\"],[0.5555555555555556,\"#d8576b\"],[0.6666666666666666,\"#ed7953\"],[0.7777777777777778,\"#fb9f3a\"],[0.8888888888888888,\"#fdca26\"],[1.0,\"#f0f921\"]],\"sequentialminus\":[[0.0,\"#0d0887\"],[0.1111111111111111,\"#46039f\"],[0.2222222222222222,\"#7201a8\"],[0.3333333333333333,\"#9c179e\"],[0.4444444444444444,\"#bd3786\"],[0.5555555555555556,\"#d8576b\"],[0.6666666666666666,\"#ed7953\"],[0.7777777777777778,\"#fb9f3a\"],[0.8888888888888888,\"#fdca26\"],[1.0,\"#f0f921\"]],\"diverging\":[[0,\"#8e0152\"],[0.1,\"#c51b7d\"],[0.2,\"#de77ae\"],[0.3,\"#f1b6da\"],[0.4,\"#fde0ef\"],[0.5,\"#f7f7f7\"],[0.6,\"#e6f5d0\"],[0.7,\"#b8e186\"],[0.8,\"#7fbc41\"],[0.9,\"#4d9221\"],[1,\"#276419\"]]},\"xaxis\":{\"gridcolor\":\"#283442\",\"linecolor\":\"#506784\",\"ticks\":\"\",\"title\":{\"standoff\":15},\"zerolinecolor\":\"#283442\",\"automargin\":true,\"zerolinewidth\":2},\"yaxis\":{\"gridcolor\":\"#283442\",\"linecolor\":\"#506784\",\"ticks\":\"\",\"title\":{\"standoff\":15},\"zerolinecolor\":\"#283442\",\"automargin\":true,\"zerolinewidth\":2},\"scene\":{\"xaxis\":{\"backgroundcolor\":\"rgb(17,17,17)\",\"gridcolor\":\"#506784\",\"linecolor\":\"#506784\",\"showbackground\":true,\"ticks\":\"\",\"zerolinecolor\":\"#C8D4E3\",\"gridwidth\":2},\"yaxis\":{\"backgroundcolor\":\"rgb(17,17,17)\",\"gridcolor\":\"#506784\",\"linecolor\":\"#506784\",\"showbackground\":true,\"ticks\":\"\",\"zerolinecolor\":\"#C8D4E3\",\"gridwidth\":2},\"zaxis\":{\"backgroundcolor\":\"rgb(17,17,17)\",\"gridcolor\":\"#506784\",\"linecolor\":\"#506784\",\"showbackground\":true,\"ticks\":\"\",\"zerolinecolor\":\"#C8D4E3\",\"gridwidth\":2}},\"shapedefaults\":{\"line\":{\"color\":\"#f2f5fa\"}},\"annotationdefaults\":{\"arrowcolor\":\"#f2f5fa\",\"arrowhead\":0,\"arrowwidth\":1},\"geo\":{\"bgcolor\":\"rgb(17,17,17)\",\"landcolor\":\"rgb(17,17,17)\",\"subunitcolor\":\"#506784\",\"showland\":true,\"showlakes\":true,\"lakecolor\":\"rgb(17,17,17)\"},\"title\":{\"x\":0.05},\"updatemenudefaults\":{\"bgcolor\":\"#506784\",\"borderwidth\":0},\"sliderdefaults\":{\"bgcolor\":\"#C8D4E3\",\"borderwidth\":1,\"bordercolor\":\"rgb(17,17,17)\",\"tickwidth\":0},\"mapbox\":{\"style\":\"dark\"}}},\"xaxis\":{\"anchor\":\"y\",\"domain\":[0.0,1.0],\"title\":{\"text\":\"Transaction Type\"}},\"yaxis\":{\"anchor\":\"x\",\"domain\":[0.0,1.0],\"title\":{\"text\":\"Count\"}},\"legend\":{\"tracegroupgap\":0},\"title\":{\"text\":\"Transaction Type Distribution\"},\"barmode\":\"relative\"},                        {\"responsive\": true}                    ).then(function(){\n                            \nvar gd = document.getElementById('4ed6904b-203a-4349-862d-427dc1f0ffdd');\nvar x = new MutationObserver(function (mutations, observer) {{\n        var display = window.getComputedStyle(gd).display;\n        if (!display || display === 'none') {{\n            console.log([gd, 'removed!']);\n            Plotly.purge(gd);\n            observer.disconnect();\n        }}\n}});\n\n// Listen for the removal of the full notebook cells\nvar notebookContainer = gd.closest('#notebook-container');\nif (notebookContainer) {{\n    x.observe(notebookContainer, {childList: true});\n}}\n\n// Listen for the clearing of the current output cell\nvar outputEl = gd.closest('.output');\nif (outputEl) {{\n    x.observe(outputEl, {childList: true});\n}}\n\n                        })                };                });            </script>        </div>"
     },
     "metadata": {},
     "output_type": "display_data"
    }
   ],
   "source": [
    "# Create a bar plot using plotly Express\n",
    "bar_plot = px.bar(x =type_counts.index, y=type_counts.values, labels={'x':'Transaction Type', 'y':'Count'}, title='Transaction Type Distribution')\n",
    "#Show the plot\n",
    "bar_plot.show()"
   ],
   "metadata": {
    "collapsed": false,
    "ExecuteTime": {
     "end_time": "2024-08-19T10:18:40.761809700Z",
     "start_time": "2024-08-19T10:18:39.932950Z"
    }
   },
   "id": "a761c5d5fc69b337",
   "execution_count": 33
  },
  {
   "cell_type": "code",
   "outputs": [
    {
     "data": {
      "text/plain": "isFraud\n0    6354407\n1       8213\nName: count, dtype: int64"
     },
     "execution_count": 34,
     "metadata": {},
     "output_type": "execute_result"
    }
   ],
   "source": [
    "# Count the number of occurrences of each value in the 'isFraud' column\n",
    "fraud_counts = df['isFraud'].value_counts()\n",
    "fraud_counts"
   ],
   "metadata": {
    "collapsed": false,
    "ExecuteTime": {
     "end_time": "2024-08-19T10:18:40.984813Z",
     "start_time": "2024-08-19T10:18:40.492453700Z"
    }
   },
   "id": "a966e315a0a653e6",
   "execution_count": 34
  },
  {
   "cell_type": "code",
   "outputs": [
    {
     "data": {
      "text/plain": "isFraud\n0    8213\n1    8213\nName: count, dtype: int64"
     },
     "execution_count": 35,
     "metadata": {},
     "output_type": "execute_result"
    }
   ],
   "source": [
    "# Oversampling\n",
    "#Undersampling\n",
    "\n",
    "# However, to avoid bias we have to balance the dataset by under sampling the majority\n",
    "df_majority = df[df['isFraud'] == 0]\n",
    "df_minority = df[df['isFraud'] == 1]\n",
    "\n",
    "df_majority_downSampled = resample(df_majority, \n",
    "                                   replace=False, \n",
    "                                   n_samples=len(df_minority), \n",
    "                                   random_state=42)\n",
    "\n",
    "df_balanced = pd.concat([df_majority_downSampled, df_minority])\n",
    "balanced_dataset = df_balanced['isFraud'].value_counts()\n",
    "balanced_dataset.head()\n",
    "\n"
   ],
   "metadata": {
    "collapsed": false,
    "ExecuteTime": {
     "end_time": "2024-08-19T10:19:29.964328900Z",
     "start_time": "2024-08-19T10:18:40.910038100Z"
    }
   },
   "id": "e6e5efa8cc156d69",
   "execution_count": 35
  },
  {
   "cell_type": "code",
   "outputs": [
    {
     "data": {
      "text/plain": "isFraud         0     1\ntype                   \nCASH_IN   1399284     0\nCASH_OUT  2233384  4116\nDEBIT       41432     0\nPAYMENT   2151495     0\nTRANSFER   528812  4097",
      "text/html": "<div>\n<style scoped>\n    .dataframe tbody tr th:only-of-type {\n        vertical-align: middle;\n    }\n\n    .dataframe tbody tr th {\n        vertical-align: top;\n    }\n\n    .dataframe thead th {\n        text-align: right;\n    }\n</style>\n<table border=\"1\" class=\"dataframe\">\n  <thead>\n    <tr style=\"text-align: right;\">\n      <th>isFraud</th>\n      <th>0</th>\n      <th>1</th>\n    </tr>\n    <tr>\n      <th>type</th>\n      <th></th>\n      <th></th>\n    </tr>\n  </thead>\n  <tbody>\n    <tr>\n      <th>CASH_IN</th>\n      <td>1399284</td>\n      <td>0</td>\n    </tr>\n    <tr>\n      <th>CASH_OUT</th>\n      <td>2233384</td>\n      <td>4116</td>\n    </tr>\n    <tr>\n      <th>DEBIT</th>\n      <td>41432</td>\n      <td>0</td>\n    </tr>\n    <tr>\n      <th>PAYMENT</th>\n      <td>2151495</td>\n      <td>0</td>\n    </tr>\n    <tr>\n      <th>TRANSFER</th>\n      <td>528812</td>\n      <td>4097</td>\n    </tr>\n  </tbody>\n</table>\n</div>"
     },
     "execution_count": 40,
     "metadata": {},
     "output_type": "execute_result"
    }
   ],
   "source": [
    "# Group by 'type' and 'isFraud', then count occurrences\n",
    "balanced_dataset = df.groupby(['type','isFraud']).size().unstack(fill_value=0)\n",
    "\n",
    "# Display the counts\n",
    "balanced_dataset\n"
   ],
   "metadata": {
    "collapsed": false,
    "ExecuteTime": {
     "end_time": "2024-08-19T10:59:47.773306100Z",
     "start_time": "2024-08-19T10:59:45.999477600Z"
    }
   },
   "id": "62109cab50331de",
   "execution_count": 40
  },
  {
   "cell_type": "code",
   "outputs": [
    {
     "data": {
      "text/plain": "isFlaggedFraud  flagged  not flagged\ntype                                \nCASH_IN               0      1399284\nCASH_OUT              0      2237500\nDEBIT                 0        41432\nPAYMENT               0      2151495\nTRANSFER             16       532893",
      "text/html": "<div>\n<style scoped>\n    .dataframe tbody tr th:only-of-type {\n        vertical-align: middle;\n    }\n\n    .dataframe tbody tr th {\n        vertical-align: top;\n    }\n\n    .dataframe thead th {\n        text-align: right;\n    }\n</style>\n<table border=\"1\" class=\"dataframe\">\n  <thead>\n    <tr style=\"text-align: right;\">\n      <th>isFlaggedFraud</th>\n      <th>flagged</th>\n      <th>not flagged</th>\n    </tr>\n    <tr>\n      <th>type</th>\n      <th></th>\n      <th></th>\n    </tr>\n  </thead>\n  <tbody>\n    <tr>\n      <th>CASH_IN</th>\n      <td>0</td>\n      <td>1399284</td>\n    </tr>\n    <tr>\n      <th>CASH_OUT</th>\n      <td>0</td>\n      <td>2237500</td>\n    </tr>\n    <tr>\n      <th>DEBIT</th>\n      <td>0</td>\n      <td>41432</td>\n    </tr>\n    <tr>\n      <th>PAYMENT</th>\n      <td>0</td>\n      <td>2151495</td>\n    </tr>\n    <tr>\n      <th>TRANSFER</th>\n      <td>16</td>\n      <td>532893</td>\n    </tr>\n  </tbody>\n</table>\n</div>"
     },
     "execution_count": 38,
     "metadata": {},
     "output_type": "execute_result"
    }
   ],
   "source": [
    "# Group by 'type' and 'isFlagged', then count occurrences\n",
    "balanced_dataset = df.groupby(['type','isFlaggedFraud']).size().unstack(fill_value=0)\n",
    "\n",
    "# Display the counts\n",
    "balanced_dataset\n"
   ],
   "metadata": {
    "collapsed": false,
    "ExecuteTime": {
     "end_time": "2024-08-19T10:58:06.654480800Z",
     "start_time": "2024-08-19T10:58:03.028165300Z"
    }
   },
   "id": "9d6c82d3c18e83dc",
   "execution_count": 38
  },
  {
   "cell_type": "code",
   "outputs": [
    {
     "data": {
      "text/plain": "   step      type    amount     nameOrig  oldbalanceOrg  newbalanceOrig  \\\n0     1   PAYMENT   9839.64  C1231006815       170136.0       160296.36   \n1     1   PAYMENT   1864.28  C1666544295        21249.0        19384.72   \n2     1  TRANSFER    181.00  C1305486145          181.0            0.00   \n3     1  CASH_OUT    181.00   C840083671          181.0            0.00   \n4     1   PAYMENT  11668.14  C2048537720        41554.0        29885.86   \n\n      nameDest  oldbalanceDest  newbalanceDest   isFraud  isFlaggedFraud  \n0  M1979787155             0.0             0.0  No Fraud               0  \n1  M2044282225             0.0             0.0  No Fraud               0  \n2   C553264065             0.0             0.0     Fraud               0  \n3    C38997010         21182.0             0.0     Fraud               0  \n4  M1230701703             0.0             0.0  No Fraud               0  ",
      "text/html": "<div>\n<style scoped>\n    .dataframe tbody tr th:only-of-type {\n        vertical-align: middle;\n    }\n\n    .dataframe tbody tr th {\n        vertical-align: top;\n    }\n\n    .dataframe thead th {\n        text-align: right;\n    }\n</style>\n<table border=\"1\" class=\"dataframe\">\n  <thead>\n    <tr style=\"text-align: right;\">\n      <th></th>\n      <th>step</th>\n      <th>type</th>\n      <th>amount</th>\n      <th>nameOrig</th>\n      <th>oldbalanceOrg</th>\n      <th>newbalanceOrig</th>\n      <th>nameDest</th>\n      <th>oldbalanceDest</th>\n      <th>newbalanceDest</th>\n      <th>isFraud</th>\n      <th>isFlaggedFraud</th>\n    </tr>\n  </thead>\n  <tbody>\n    <tr>\n      <th>0</th>\n      <td>1</td>\n      <td>PAYMENT</td>\n      <td>9839.64</td>\n      <td>C1231006815</td>\n      <td>170136.0</td>\n      <td>160296.36</td>\n      <td>M1979787155</td>\n      <td>0.0</td>\n      <td>0.0</td>\n      <td>No Fraud</td>\n      <td>0</td>\n    </tr>\n    <tr>\n      <th>1</th>\n      <td>1</td>\n      <td>PAYMENT</td>\n      <td>1864.28</td>\n      <td>C1666544295</td>\n      <td>21249.0</td>\n      <td>19384.72</td>\n      <td>M2044282225</td>\n      <td>0.0</td>\n      <td>0.0</td>\n      <td>No Fraud</td>\n      <td>0</td>\n    </tr>\n    <tr>\n      <th>2</th>\n      <td>1</td>\n      <td>TRANSFER</td>\n      <td>181.00</td>\n      <td>C1305486145</td>\n      <td>181.0</td>\n      <td>0.00</td>\n      <td>C553264065</td>\n      <td>0.0</td>\n      <td>0.0</td>\n      <td>Fraud</td>\n      <td>0</td>\n    </tr>\n    <tr>\n      <th>3</th>\n      <td>1</td>\n      <td>CASH_OUT</td>\n      <td>181.00</td>\n      <td>C840083671</td>\n      <td>181.0</td>\n      <td>0.00</td>\n      <td>C38997010</td>\n      <td>21182.0</td>\n      <td>0.0</td>\n      <td>Fraud</td>\n      <td>0</td>\n    </tr>\n    <tr>\n      <th>4</th>\n      <td>1</td>\n      <td>PAYMENT</td>\n      <td>11668.14</td>\n      <td>C2048537720</td>\n      <td>41554.0</td>\n      <td>29885.86</td>\n      <td>M1230701703</td>\n      <td>0.0</td>\n      <td>0.0</td>\n      <td>No Fraud</td>\n      <td>0</td>\n    </tr>\n  </tbody>\n</table>\n</div>"
     },
     "execution_count": 14,
     "metadata": {},
     "output_type": "execute_result"
    }
   ],
   "source": [
    "# Mapping isFraud that is false to \"NO Fraud\" and true to \"Fraud\"\n",
    "\n",
    "df[\"isFraud\"] = df[\"isFraud\"].map({\n",
    "    0: \"No Fraud\", \n",
    "    1: \"Fraud\"\n",
    "})\n",
    "\n",
    "df.head()"
   ],
   "metadata": {
    "collapsed": false,
    "ExecuteTime": {
     "end_time": "2024-08-19T09:18:43.089152100Z",
     "start_time": "2024-08-19T09:18:41.728258600Z"
    }
   },
   "id": "f5780a9e90fdefd4",
   "execution_count": 14
  },
  {
   "cell_type": "code",
   "outputs": [
    {
     "name": "stdout",
     "output_type": "stream",
     "text": [
      "Model Accuracy: 99.98%\n",
      "Model, scaler, and encoder saved to fraud_model.pkl, scaler.pkl, and encoder.pkl\n"
     ]
    }
   ],
   "source": [
    "def train_and_save_model(df, model_filename='fraud_model.pkl', scaler_filename='scaler.pkl', encoder_filename='encoder.pkl'):\n",
    "   \n",
    "    # Separate features and target variable\n",
    "    x = df[['type', 'amount', 'oldbalanceOrg', 'newbalanceOrig']]\n",
    "    y = df['isFraud']\n",
    "    \n",
    "    # One-hot encode the 'type' column\n",
    "    encoder = OneHotEncoder(sparse_output=False)\n",
    "    type_encoded = encoder.fit_transform(x[['type']])\n",
    "    \n",
    "    # Create a DataFrame with the encoded type features\n",
    "    type_encoded_df = pd.DataFrame(type_encoded, columns=encoder.get_feature_names_out(['type']))\n",
    "    \n",
    "    # Concatenate the one-hot encoded columns with the rest of the features\n",
    "    x = pd.concat([x.drop('type', axis=1), type_encoded_df], axis=1)\n",
    "    \n",
    "    # Split the data into training and testing sets\n",
    "    xtrain, xtest, ytrain, ytest = train_test_split(x, y, test_size=0.10, random_state=42)\n",
    "    \n",
    "    # Scale the features\n",
    "    scaler = StandardScaler()\n",
    "    xtrain = scaler.fit_transform(xtrain)\n",
    "    xtest = scaler.transform(xtest)\n",
    "    \n",
    "    # Train the Random Forest Classifier\n",
    "    model = RandomForestClassifier(random_state=42)\n",
    "    model.fit(xtrain, ytrain)\n",
    "    \n",
    "    # Save the model, scaler, and encoder\n",
    "    joblib.dump(model, model_filename)\n",
    "    joblib.dump(scaler, scaler_filename)\n",
    "    joblib.dump(encoder, encoder_filename)\n",
    "    \n",
    "    # Evaluate the model\n",
    "    accuracy = model.score(xtest, ytest) * 100\n",
    "    print(f\"Model Accuracy: {accuracy:.2f}%\")\n",
    "    print(f\"Model, scaler, and encoder saved to {model_filename}, {scaler_filename}, and {encoder_filename}\")\n",
    "\n",
    "# Example usage\n",
    "train_and_save_model(df)\n"
   ],
   "metadata": {
    "collapsed": false,
    "ExecuteTime": {
     "end_time": "2024-08-19T09:52:15.014574Z",
     "start_time": "2024-08-19T09:18:42.270202700Z"
    }
   },
   "id": "7a1b19e82601b40",
   "execution_count": 15
  },
  {
   "cell_type": "code",
   "outputs": [
    {
     "name": "stdout",
     "output_type": "stream",
     "text": [
      "Test Features: ['TRANSFER', 10000000, 15000000, 5000000] -> Prediction: No Fraud\n",
      "Test Features: ['TRANSFER', 4753893, 10000000, 6000000] -> Prediction: No Fraud\n",
      "Test Features: ['TRANSFER', 4753893, 4753893, 0] -> Prediction: No Fraud\n",
      "Test Features: ['TRANSFER', 4753893, 4753893, 4753893] -> Prediction: No Fraud\n",
      "Test Features: ['TRANSFER', 4753893, 10000000, 5256107] -> Prediction: No Fraud\n",
      "Test Features: ['TRANSFER', 3000000, 8000000, 5000000] -> Prediction: No Fraud\n",
      "Test Features: ['CASH_OUT', 20000000, 25000000, 5000000] -> Prediction: No Fraud\n",
      "Test Features: ['TRANSFER', 4753893, 9507786, 4753893] -> Prediction: No Fraud\n",
      "Test Features: ['TRANSFER', 4753893, 4754893, 4753890] -> Prediction: No Fraud\n",
      "Test Features: ['TRANSFER', 4753893, 4753893, 0] -> Prediction: No Fraud\n",
      "Test Features: ['TRANSFER', 9999999, 10000000, 10000000] -> Prediction: No Fraud\n"
     ]
    }
   ],
   "source": [
    "def load_and_predict_fraud(test_features, model_filename='fraud_model.pkl', scaler_filename='scaler.pkl', encoder_filename='encoder.pkl'):\n",
    "    # Load the model, scaler, and encoder\n",
    "    model = joblib.load(model_filename)\n",
    "    scaler = joblib.load(scaler_filename)\n",
    "    encoder = joblib.load(encoder_filename)\n",
    "    \n",
    "    # Convert test features to a DataFrame with appropriate column names\n",
    "    feature_names = ['type', 'amount', 'oldbalanceOrg', 'newbalanceOrig']\n",
    "    test_features_df = pd.DataFrame([test_features], columns=feature_names)\n",
    "    \n",
    "    # One-hot encode the 'type' column\n",
    "    type_encoded = encoder.transform(test_features_df[['type']])\n",
    "    \n",
    "    # Create a DataFrame with the encoded type features\n",
    "    type_encoded_df = pd.DataFrame(type_encoded, columns=encoder.get_feature_names_out(['type']))\n",
    "    \n",
    "    # Concatenate the one-hot encoded columns with the rest of the features\n",
    "    test_features_encoded = pd.concat([test_features_df.drop('type', axis=1), type_encoded_df], axis=1)\n",
    "    \n",
    "    # Scale the input features\n",
    "    test_features_scaled = scaler.transform(test_features_encoded)\n",
    "    \n",
    "    # Make prediction\n",
    "    start_time = time.time()\n",
    "    prediction = model.predict(test_features_scaled)\n",
    "    end_time = time.time()\n",
    "    \n",
    "    # the time taken\n",
    "    # print(f\"Prediction Time: {end_time - start_time:.4f} seconds\")\n",
    "    \n",
    "    # Return \"Fraud\" or \"No Fraud\" based on prediction\n",
    "    return \"Fraud\" if prediction[0] == 1 else \"No Fraud\"\n",
    "\n",
    "# Example usage:\n",
    "test_features_list = [\n",
    "    [\"TRANSFER\", 10000000, 15000000, 5000000],\n",
    "    [\"TRANSFER\", 4753893, 10000000, 6000000],\n",
    "    [\"TRANSFER\", 4753893, 4753893, 0],\n",
    "    [\"TRANSFER\", 4753893, 4753893, 4753893],\n",
    "    [\"TRANSFER\", 4753893, 10000000, 5256107],\n",
    "    [\"TRANSFER\", 3000000, 8000000, 5000000],\n",
    "    [\"CASH_OUT\", 20000000, 25000000, 5000000],\n",
    "    [\"TRANSFER\", 4753893, 9507786, 4753893],\n",
    "    [\"TRANSFER\", 4753893, 4754893, 4753890],\n",
    "    [\"TRANSFER\", 4753893, 4753893, 0],\n",
    "    [\"TRANSFER\", 9999999, 10000000, 10000000]\n",
    "]\n",
    "\n",
    "for features in test_features_list:\n",
    "    result = load_and_predict_fraud(features)\n",
    "    print(f\"Test Features: {features} -> Prediction: {result}\")\n",
    "\n"
   ],
   "metadata": {
    "collapsed": false,
    "ExecuteTime": {
     "end_time": "2024-08-19T11:44:53.823170400Z",
     "start_time": "2024-08-19T11:44:50.139291700Z"
    }
   },
   "id": "624ba1b814ac53a2",
   "execution_count": 41
  },
  {
   "cell_type": "code",
   "outputs": [],
   "source": [],
   "metadata": {
    "collapsed": false,
    "ExecuteTime": {
     "end_time": "2024-08-15T08:18:40.435806400Z",
     "start_time": "2024-08-15T08:18:40.188466700Z"
    }
   },
   "id": "b2f3803963540798",
   "execution_count": 44
  },
  {
   "cell_type": "code",
   "outputs": [],
   "source": [],
   "metadata": {
    "collapsed": false
   },
   "id": "28eea42a9d4beb06"
  }
 ],
 "metadata": {
  "kernelspec": {
   "display_name": "Python 3",
   "language": "python",
   "name": "python3"
  },
  "language_info": {
   "codemirror_mode": {
    "name": "ipython",
    "version": 2
   },
   "file_extension": ".py",
   "mimetype": "text/x-python",
   "name": "python",
   "nbconvert_exporter": "python",
   "pygments_lexer": "ipython2",
   "version": "2.7.6"
  }
 },
 "nbformat": 4,
 "nbformat_minor": 5
}
